{
 "cells": [
  {
   "cell_type": "code",
   "execution_count": 4,
   "metadata": {},
   "outputs": [],
   "source": [
    "import pytesseract\n",
    "from PIL import Image"
   ]
  },
  {
   "cell_type": "code",
   "execution_count": 5,
   "metadata": {},
   "outputs": [],
   "source": [
    "no_noise=r\"D:\\Sem 7\\Major Project\\Implementation\\Learning\\no_noise.jpg\""
   ]
  },
  {
   "cell_type": "code",
   "execution_count": 6,
   "metadata": {},
   "outputs": [],
   "source": [
    "img=Image.open(no_noise)"
   ]
  },
  {
   "cell_type": "code",
   "execution_count": 7,
   "metadata": {},
   "outputs": [],
   "source": [
    "ocr_result=pytesseract.image_to_string(img)"
   ]
  },
  {
   "cell_type": "code",
   "execution_count": 8,
   "metadata": {},
   "outputs": [
    {
     "name": "stdout",
     "output_type": "stream",
     "text": [
      "Ah, distinctly I remember it was in the bleak December,\n",
      "\n",
      "And each separate dying ember wrought its ghost upon the floor.\n",
      "Eagerly | wished the morrow:—vainly I had sought to borrow\n",
      "From my books surcease of sorrow—sorrow for the lost Lenore—\n",
      "\n",
      "For the rare and radiant maiden whom the angels name Lenore —\n",
      "\n",
      "Nameless here for evermore]\n",
      "\n",
      "And the silken, sad, uncertain rustling of each purple curtain\n",
      "Thrilled me—filled me with fantastic terrors never felt before;\n",
      "\n",
      "So that now, to still the beating of my heart, | stood repeating\n",
      "\n",
      "“Tis some visitor entreating entrance at my chamber door—\n",
      "Some late visitor entreating entrance at my chamber door; —\n",
      "\n",
      "This 111s and nothing more.”\n",
      "\n"
     ]
    }
   ],
   "source": [
    "print(ocr_result)"
   ]
  }
 ],
 "metadata": {
  "kernelspec": {
   "display_name": "Python 3",
   "language": "python",
   "name": "python3"
  },
  "language_info": {
   "codemirror_mode": {
    "name": "ipython",
    "version": 3
   },
   "file_extension": ".py",
   "mimetype": "text/x-python",
   "name": "python",
   "nbconvert_exporter": "python",
   "pygments_lexer": "ipython3",
   "version": "3.12.4"
  }
 },
 "nbformat": 4,
 "nbformat_minor": 2
}
